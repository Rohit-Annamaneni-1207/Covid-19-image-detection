{
  "nbformat": 4,
  "nbformat_minor": 0,
  "metadata": {
    "colab": {
      "provenance": [],
      "gpuType": "T4",
      "include_colab_link": true
    },
    "kernelspec": {
      "name": "python3",
      "display_name": "Python 3"
    },
    "language_info": {
      "name": "python"
    },
    "accelerator": "GPU"
  },
  "cells": [
    {
      "cell_type": "markdown",
      "metadata": {
        "id": "view-in-github",
        "colab_type": "text"
      },
      "source": [
        "<a href=\"https://colab.research.google.com/github/omkmorendha/COVID-19-Image-Detection/blob/main/Final_DAH_one_layer_task_one.ipynb\" target=\"_parent\"><img src=\"https://colab.research.google.com/assets/colab-badge.svg\" alt=\"Open In Colab\"/></a>"
      ]
    },
    {
      "cell_type": "markdown",
      "source": [
        "Load Drive"
      ],
      "metadata": {
        "id": "O6RfNK_J-mgc"
      }
    },
    {
      "cell_type": "code",
      "execution_count": null,
      "metadata": {
        "colab": {
          "base_uri": "https://localhost:8080/"
        },
        "id": "FT4Tdlv68-Pf",
        "outputId": "3bb28e5c-c3ff-4246-a8fe-791f94fbbebf"
      },
      "outputs": [
        {
          "output_type": "stream",
          "name": "stdout",
          "text": [
            "Drive already mounted at /content/drive; to attempt to forcibly remount, call drive.mount(\"/content/drive\", force_remount=True).\n"
          ]
        }
      ],
      "source": [
        "from google.colab import drive\n",
        "drive.mount('/content/drive')"
      ]
    },
    {
      "cell_type": "markdown",
      "source": [
        "Set Path"
      ],
      "metadata": {
        "id": "GwWc83LX-rOw"
      }
    },
    {
      "cell_type": "code",
      "source": [
        "dataset_path = \"/content/drive/MyDrive/Covid19-dataset\"\n",
        "train_path = dataset_path + \"/train/\"\n",
        "test_path = dataset_path + \"/test/\""
      ],
      "metadata": {
        "id": "RjmCV4Oy9-bg"
      },
      "execution_count": null,
      "outputs": []
    },
    {
      "cell_type": "markdown",
      "source": [
        "Import libraries"
      ],
      "metadata": {
        "id": "Hm7Zaz0O-x1S"
      }
    },
    {
      "cell_type": "code",
      "source": [
        "import os\n",
        "import pandas as pd\n",
        "import numpy as np\n",
        "import matplotlib.pyplot as plt\n",
        "import tensorflow as tf\n",
        "import matplotlib.image as mpimg\n",
        "import cv2\n",
        "import pathlib\n",
        "import random\n",
        "from sklearn.model_selection import train_test_split"
      ],
      "metadata": {
        "id": "3oF03H36-u27"
      },
      "execution_count": null,
      "outputs": []
    },
    {
      "cell_type": "markdown",
      "source": [
        "Load Dataset"
      ],
      "metadata": {
        "id": "1MAmOKO2AiLK"
      }
    },
    {
      "cell_type": "code",
      "source": [
        "label_dict = {\"Normal\" : [1, 0, 0], \"Viral Pneumonia\" : [0, 1, 0], \"Covid\" : [0, 0, 1]}\n",
        "class_name = [\"Normal\", \"Viral Pneumonia\", \"Covid\"]"
      ],
      "metadata": {
        "id": "luBJMw5GAfr0"
      },
      "execution_count": null,
      "outputs": []
    },
    {
      "cell_type": "code",
      "source": [
        "X_train = []\n",
        "y_train = []\n",
        "\n",
        "for cls in class_name:\n",
        "  for fname in os.listdir(train_path + \"/\" + cls + \"/\"):\n",
        "    print(cls, fname)\n",
        "    img_path = train_path + \"/\" + cls + \"/\" + fname\n",
        "    img = cv2.imread(img_path)\n",
        "    img = cv2.resize(img, (200, 200))\n",
        "\n",
        "    X_train.append(img)\n",
        "    y_train.append(label_dict[cls])"
      ],
      "metadata": {
        "colab": {
          "base_uri": "https://localhost:8080/"
        },
        "id": "P31pVCMRAWMM",
        "outputId": "80b27d7b-40b5-4f37-99f6-f17cfe73342a"
      },
      "execution_count": null,
      "outputs": [
        {
          "output_type": "stream",
          "name": "stdout",
          "text": [
            "Normal 017.jpeg\n",
            "Normal 010.jpeg\n",
            "Normal 015.jpeg\n",
            "Normal 019.jpeg\n",
            "Normal 013.jpeg\n",
            "Normal 018.jpeg\n",
            "Normal 016.jpeg\n",
            "Normal 014.jpeg\n",
            "Normal 011.jpeg\n",
            "Normal 01.jpeg\n",
            "Normal 012.jpeg\n",
            "Normal 04.jpeg\n",
            "Normal 052.jpeg\n",
            "Normal 053.jpeg\n",
            "Normal 03.jpeg\n",
            "Normal 056.jpeg\n",
            "Normal 057.jpeg\n",
            "Normal 023.jpeg\n",
            "Normal 058.jpeg\n",
            "Normal 05.jpeg\n",
            "Normal 055.jpeg\n",
            "Normal 051.jpeg\n",
            "Normal 054.jpeg\n",
            "Normal 02.jpeg\n",
            "Normal 024.jpeg\n",
            "Normal 050.jpeg\n",
            "Normal 025.jpeg\n",
            "Normal 020.jpeg\n",
            "Normal 022.jpeg\n",
            "Normal 021.jpeg\n",
            "Normal 061.jpeg\n",
            "Normal 080.jpeg\n",
            "Normal 072.jpeg\n",
            "Normal 066.jpeg\n",
            "Normal 077.jpeg\n",
            "Normal 06.jpeg\n",
            "Normal 067.jpeg\n",
            "Normal 068.jpeg\n",
            "Normal 069.jpeg\n",
            "Normal 08.jpeg\n",
            "Normal 076.jpeg\n",
            "Normal 075.jpeg\n",
            "Normal 060.jpeg\n",
            "Normal 079.jpeg\n",
            "Normal 074.jpeg\n",
            "Normal 065.jpeg\n",
            "Normal 070.jpeg\n",
            "Normal 063.jpeg\n",
            "Normal 062.jpeg\n",
            "Normal 071.jpeg\n",
            "Normal 081.jpeg\n",
            "Normal 064.jpeg\n",
            "Normal 059.jpeg\n",
            "Normal 073.jpeg\n",
            "Normal 07.jpeg\n",
            "Normal 082.jpeg\n",
            "Normal 086.jpeg\n",
            "Normal 083.jpeg\n",
            "Normal 092.jpeg\n",
            "Normal 085.jpeg\n",
            "Normal 088.jpeg\n",
            "Normal 094.jpeg\n",
            "Normal 087.jpeg\n",
            "Normal 095.jpeg\n",
            "Normal 096.jpeg\n",
            "Normal 09.jpeg\n",
            "Normal 091.jpeg\n",
            "Normal 084.jpeg\n",
            "Normal 093.jpeg\n",
            "Normal 097.jpeg\n",
            "Viral Pneumonia 021.jpeg\n",
            "Viral Pneumonia 037.jpeg\n",
            "Viral Pneumonia 02.jpeg\n",
            "Viral Pneumonia 022.jpeg\n",
            "Viral Pneumonia 027.jpeg\n",
            "Viral Pneumonia 010.jpeg\n",
            "Viral Pneumonia 05.jpeg\n",
            "Viral Pneumonia 01.jpeg\n",
            "Viral Pneumonia 019.jpeg\n",
            "Viral Pneumonia 034.jpeg\n",
            "Viral Pneumonia 033.jpeg\n",
            "Viral Pneumonia 024.jpeg\n",
            "Viral Pneumonia 013.jpeg\n",
            "Viral Pneumonia 023.jpeg\n",
            "Viral Pneumonia 016.jpeg\n",
            "Viral Pneumonia 032.jpeg\n",
            "Viral Pneumonia 018.jpeg\n",
            "Viral Pneumonia 038.jpeg\n",
            "Viral Pneumonia 041.jpeg\n",
            "Viral Pneumonia 012.jpeg\n",
            "Viral Pneumonia 025.jpeg\n",
            "Viral Pneumonia 043.jpeg\n",
            "Viral Pneumonia 035.jpeg\n",
            "Viral Pneumonia 03.jpeg\n",
            "Viral Pneumonia 045.jpeg\n",
            "Viral Pneumonia 047.jpeg\n",
            "Viral Pneumonia 011.jpeg\n",
            "Viral Pneumonia 042.jpeg\n",
            "Viral Pneumonia 048.jpeg\n",
            "Viral Pneumonia 044.jpeg\n",
            "Viral Pneumonia 031.jpeg\n",
            "Viral Pneumonia 036.jpeg\n",
            "Viral Pneumonia 020.jpeg\n",
            "Viral Pneumonia 046.jpeg\n",
            "Viral Pneumonia 04.jpeg\n",
            "Viral Pneumonia 076.jpeg\n",
            "Viral Pneumonia 078.jpeg\n",
            "Viral Pneumonia 061.jpeg\n",
            "Viral Pneumonia 073.jpeg\n",
            "Viral Pneumonia 067.jpeg\n",
            "Viral Pneumonia 082.jpeg\n",
            "Viral Pneumonia 084.jpeg\n",
            "Viral Pneumonia 07.jpeg\n",
            "Viral Pneumonia 065.jpeg\n",
            "Viral Pneumonia 09.jpeg\n",
            "Viral Pneumonia 053.jpeg\n",
            "Viral Pneumonia 074.jpeg\n",
            "Viral Pneumonia 063.jpeg\n",
            "Viral Pneumonia 08.jpeg\n",
            "Viral Pneumonia 066.jpeg\n",
            "Viral Pneumonia 077.jpeg\n",
            "Viral Pneumonia 083.jpeg\n",
            "Viral Pneumonia 075.jpeg\n",
            "Viral Pneumonia 056.jpeg\n",
            "Viral Pneumonia 051.jpeg\n",
            "Viral Pneumonia 058.jpeg\n",
            "Viral Pneumonia 052.jpeg\n",
            "Viral Pneumonia 071.jpeg\n",
            "Viral Pneumonia 072.jpeg\n",
            "Viral Pneumonia 054.jpeg\n",
            "Viral Pneumonia 062.jpeg\n",
            "Viral Pneumonia 055.jpeg\n",
            "Viral Pneumonia 057.jpeg\n",
            "Viral Pneumonia 095.jpeg\n",
            "Viral Pneumonia 096.jpeg\n",
            "Viral Pneumonia 068.jpeg\n",
            "Viral Pneumonia 064.jpeg\n",
            "Viral Pneumonia 094.jpeg\n",
            "Viral Pneumonia 06.jpeg\n",
            "Viral Pneumonia 081.jpeg\n",
            "Covid 019.png\n",
            "Covid 015.jpg\n",
            "Covid 010.png\n",
            "Covid 02.jpeg\n",
            "Covid 01.jpeg\n",
            "Covid 012.jpeg\n",
            "Covid 045.jpeg\n",
            "Covid 041.jpeg\n",
            "Covid 031.jpeg\n",
            "Covid 048.jpeg\n",
            "Covid 033.png\n",
            "Covid 026.jpeg\n",
            "Covid 032.jpeg\n",
            "Covid 027.jpeg\n",
            "Covid 025.jpeg\n",
            "Covid 050.jpeg\n",
            "Covid 047.jpeg\n",
            "Covid 046.jpeg\n",
            "Covid 04.png\n",
            "Covid 020.jpg\n",
            "Covid 040.jpeg\n",
            "Covid 044.jpeg\n",
            "Covid 049.jpeg\n",
            "Covid 024.jpeg\n",
            "Covid 022.jpeg\n",
            "Covid 03.jpeg\n",
            "Covid 043.jpeg\n",
            "Covid 039.jpeg\n",
            "Covid 042.jpeg\n",
            "Covid 021.jpeg\n",
            "Covid 065.jpeg\n",
            "Covid 086.jpg\n",
            "Covid 068.jpg\n",
            "Covid 061.jpg\n",
            "Covid 069.jpg\n",
            "Covid COVID-00003b.jpg\n",
            "Covid 071.jpg\n",
            "Covid 052.jpeg\n",
            "Covid 056.jpg\n",
            "Covid COVID-00002.jpg\n",
            "Covid 053.jpeg\n",
            "Covid COVID-00004.jpg\n",
            "Covid 054.jpeg\n",
            "Covid 083.jpeg\n",
            "Covid 080.jpg\n",
            "Covid 076.jpg\n",
            "Covid 064.jpg\n",
            "Covid COVID-00001.jpg\n",
            "Covid 060.jpeg\n",
            "Covid 091.jpg\n",
            "Covid 09.png\n",
            "Covid 07.jpg\n",
            "Covid 084.jpeg\n",
            "Covid 055.jpeg\n",
            "Covid COVID-00005.jpg\n",
            "Covid 090.jpeg\n",
            "Covid COVID-00003a.jpg\n",
            "Covid 059.jpeg\n",
            "Covid 062.jpeg\n",
            "Covid 089.jpg\n",
            "Covid 081.jpeg\n",
            "Covid 058.jpeg\n",
            "Covid 092.png\n",
            "Covid 051.jpeg\n",
            "Covid 072.jpeg\n",
            "Covid 08.jpeg\n",
            "Covid 06.jpeg\n",
            "Covid 074.jpg\n",
            "Covid 082.jpg\n",
            "Covid 088.jpeg\n",
            "Covid 085.jpeg\n",
            "Covid 078.jpeg\n",
            "Covid 079.jpeg\n",
            "Covid 073.jpg\n",
            "Covid 067.jpg\n",
            "Covid 057.jpeg\n",
            "Covid COVID-00011.jpg\n",
            "Covid COVID-00028.jpg\n",
            "Covid COVID-00020.jpg\n",
            "Covid COVID-00015a.png\n",
            "Covid COVID-00023.jpg\n",
            "Covid COVID-00018.jpg\n",
            "Covid COVID-00038.jpg\n",
            "Covid COVID-00029.jpg\n",
            "Covid COVID-00013b.jpg\n",
            "Covid COVID-00030.jpg\n",
            "Covid COVID-00016.jpg\n",
            "Covid COVID-00019.jpg\n",
            "Covid COVID-00013a.jpg\n",
            "Covid COVID-00021.jpg\n",
            "Covid COVID-00026.jpg\n",
            "Covid COVID-00024.jpg\n",
            "Covid COVID-00027.jpg\n",
            "Covid COVID-00032.jpg\n",
            "Covid COVID-00022.jpg\n",
            "Covid COVID-00008.jpg\n",
            "Covid COVID-00036.jpg\n",
            "Covid COVID-00034.jpg\n",
            "Covid COVID-00007.jpg\n",
            "Covid COVID-00015b.png\n",
            "Covid COVID-00014.jpg\n",
            "Covid COVID-00010.jpg\n",
            "Covid COVID-00035.jpg\n",
            "Covid COVID-00033.jpg\n",
            "Covid COVID-00009.jpg\n",
            "Covid COVID-00012.jpg\n",
            "Covid COVID-00025.jpg\n",
            "Covid COVID-00006.jpg\n",
            "Covid COVID-00031.jpg\n",
            "Covid COVID-00037.jpg\n",
            "Covid COVID-00017.jpg\n"
          ]
        }
      ]
    },
    {
      "cell_type": "code",
      "source": [
        "X_test = []\n",
        "y_test = []\n",
        "\n",
        "for cls in class_name:\n",
        "  for fname in os.listdir(test_path + \"/\" + cls + \"/\"):\n",
        "    print(cls, fname)\n",
        "    img_path = test_path + \"/\" + cls + \"/\" + fname\n",
        "    img = cv2.imread(img_path)\n",
        "    img = cv2.resize(img, (200, 200))\n",
        "\n",
        "    X_test.append(img)\n",
        "    y_test.append(label_dict[cls])"
      ],
      "metadata": {
        "colab": {
          "base_uri": "https://localhost:8080/"
        },
        "id": "BRMQ7JAgAzjJ",
        "outputId": "cc8133d1-6aff-4cf9-d8cb-64a328761efd"
      },
      "execution_count": null,
      "outputs": [
        {
          "output_type": "stream",
          "name": "stdout",
          "text": [
            "Normal 0116.jpeg\n",
            "Normal 0109.jpeg\n",
            "Normal 0112.jpeg\n",
            "Normal 0111.jpeg\n",
            "Normal 0102.jpeg\n",
            "Normal 0106.jpeg\n",
            "Normal 0101.jpeg\n",
            "Normal 0105.jpeg\n",
            "Normal 0114.jpeg\n",
            "Normal 0110.jpeg\n",
            "Normal 0107.jpeg\n",
            "Normal 0115.jpeg\n",
            "Normal 0103.jpeg\n",
            "Normal 0108.jpeg\n",
            "Normal 0117.jpeg\n",
            "Normal 0118.jpeg\n",
            "Normal 0120.jpeg\n",
            "Normal 0119.jpeg\n",
            "Normal 0121.jpeg\n",
            "Normal 0122.jpeg\n",
            "Viral Pneumonia 0105.jpeg\n",
            "Viral Pneumonia 0111.jpeg\n",
            "Viral Pneumonia 0110.jpeg\n",
            "Viral Pneumonia 0107.jpeg\n",
            "Viral Pneumonia 0113.jpeg\n",
            "Viral Pneumonia 0119.jpeg\n",
            "Viral Pneumonia 0103.jpeg\n",
            "Viral Pneumonia 0109.jpeg\n",
            "Viral Pneumonia 0114.jpeg\n",
            "Viral Pneumonia 0106.jpeg\n",
            "Viral Pneumonia 0120.jpeg\n",
            "Viral Pneumonia 0115.jpeg\n",
            "Viral Pneumonia 0116.jpeg\n",
            "Viral Pneumonia 0108.jpeg\n",
            "Viral Pneumonia 0118.jpeg\n",
            "Viral Pneumonia 0102.jpeg\n",
            "Viral Pneumonia 0104.jpeg\n",
            "Viral Pneumonia 0101.jpeg\n",
            "Viral Pneumonia 0117.jpeg\n",
            "Viral Pneumonia 0112.jpeg\n",
            "Covid 0100.jpeg\n",
            "Covid COVID-00012.jpg\n",
            "Covid COVID-00022.jpg\n",
            "Covid 0115.jpeg\n",
            "Covid 0105.png\n",
            "Covid 0108.jpeg\n",
            "Covid 0118.jpeg\n",
            "Covid 096.png\n",
            "Covid auntminnie-c-2020_01_28_23_51_6665_2020_01_28_Vietnam_coronavirus.jpeg\n",
            "Covid 0102.jpeg\n",
            "Covid radiopaedia-2019-novel-coronavirus-infected-pneumonia.jpg\n",
            "Covid COVID-00033.jpg\n",
            "Covid 0119.jpeg\n",
            "Covid auntminnie-b-2020_01_28_23_51_6665_2020_01_28_Vietnam_coronavirus.jpeg\n",
            "Covid auntminnie-2020_01_31_20_24_2322_2020_01_31_x-ray_coronavirus_US.jpg\n",
            "Covid auntminnie-d-2020_01_28_23_51_6665_2020_01_28_Vietnam_coronavirus.jpeg\n",
            "Covid 094.png\n",
            "Covid auntminnie-a-2020_01_28_23_51_6665_2020_01_28_Vietnam_coronavirus.jpeg\n",
            "Covid 0112.jpg\n",
            "Covid COVID-00003b.jpg\n",
            "Covid 0120.jpg\n",
            "Covid 098.jpeg\n",
            "Covid COVID-00037.jpg\n",
            "Covid 0106.jpeg\n",
            "Covid 0113.jpg\n",
            "Covid 0111.jpg\n"
          ]
        }
      ]
    },
    {
      "cell_type": "markdown",
      "source": [
        "Normalise image values"
      ],
      "metadata": {
        "id": "_nOR-NPQDFPc"
      }
    },
    {
      "cell_type": "code",
      "source": [
        "X_train = np.array(X_train)\n",
        "y_train = np.array(y_train)\n",
        "X_test = np.array(X_test)\n",
        "y_test = np.array(y_test)\n",
        "\n",
        "X_train = X_train / 255.0\n",
        "X_test = X_test / 255.0"
      ],
      "metadata": {
        "id": "PKHiAp2gCvK4"
      },
      "execution_count": null,
      "outputs": []
    },
    {
      "cell_type": "code",
      "source": [
        "X_gray_eq = []\n",
        "\n",
        "for image in X_train:\n",
        "    # Convert the image to grayscale if it's in color\n",
        "    image_f = np.float32(image)\n",
        "    gray_image = cv2.cvtColor(image_f, cv2.COLOR_BGR2GRAY)\n",
        "\n",
        "    # Perform histogram equalization\n",
        "    #equalized_image = cv2.equalizeHist(gray_image)\n",
        "\n",
        "    # Append the equalized image to the result array\n",
        "    X_gray_eq.append(gray_image)\n",
        "\n",
        "X_train = np.array(X_gray_eq)\n",
        "\n",
        "X_gray_eq = []\n",
        "\n",
        "for image in X_test:\n",
        "    # Convert the image to grayscale if it's in color\n",
        "    image_f = np.float32(image)\n",
        "    gray_image = cv2.cvtColor(image_f, cv2.COLOR_BGR2GRAY)\n",
        "\n",
        "    # Perform histogram equalization\n",
        "    #equalized_image = cv2.equalizeHist(gray_image)\n",
        "\n",
        "    # Append the equalized image to the result array\n",
        "    X_gray_eq.append(gray_image)\n",
        "\n",
        "X_test = np.array(X_gray_eq)"
      ],
      "metadata": {
        "id": "FtYsB4kCVrII"
      },
      "execution_count": null,
      "outputs": []
    },
    {
      "cell_type": "markdown",
      "source": [
        "## Model 1"
      ],
      "metadata": {
        "id": "89hOFDpx_Psj"
      }
    },
    {
      "cell_type": "code",
      "source": [
        "from keras.models import Sequential\n",
        "from sklearn.model_selection import train_test_split\n",
        "from keras.layers import Dense, Dropout, Flatten, Conv2D\n",
        "from keras.layers import Input, Add, Dense, BatchNormalization, Flatten, Conv2D, MaxPooling2D\n",
        "from keras.losses import SparseCategoricalCrossentropy\n",
        "from tensorflow.keras.optimizers import Adam"
      ],
      "metadata": {
        "id": "xoSlwTLfEmLW"
      },
      "execution_count": null,
      "outputs": []
    },
    {
      "cell_type": "code",
      "source": [
        "model = Sequential()\n",
        "\n",
        "# Convolutional layers\n",
        "model.add(Conv2D(32, (3, 3), activation='relu', input_shape=(200, 200, 1)))\n",
        "model.add(MaxPooling2D(pool_size=(2, 2)))\n",
        "\n",
        "model.add(Conv2D(64, (3, 3), activation='relu'))\n",
        "model.add(MaxPooling2D(pool_size=(2, 2)))\n",
        "\n",
        "model.add(Conv2D(128, (3, 3), activation='relu'))\n",
        "model.add(MaxPooling2D(pool_size=(2, 2)))\n",
        "\n",
        "model.add(Conv2D(256, (3, 3), activation='relu'))\n",
        "model.add(MaxPooling2D(pool_size=(2, 2)))\n",
        "\n",
        "# Flatten the feature maps\n",
        "model.add(Flatten())\n",
        "\n",
        "# Fully connected layers\n",
        "model.add(Dense(256, activation='relu'))\n",
        "model.add(Dropout(0.5))  # Dropout layer to reduce overfitting\n",
        "\n",
        "model.add(Dense(128, activation='relu'))\n",
        "\n",
        "model.add(Dense(64, activation='relu'))\n",
        "\n",
        "model.add(Dense(32, activation='relu'))\n",
        "# model.add(Dropout(0.5))\n",
        "\n",
        "model.add(Dense(3, activation='softmax'))\n",
        "model.compile(optimizer=Adam(learning_rate=0.0001), loss='binary_crossentropy', metrics=['accuracy'])\n",
        "\n",
        "# Display the model summary\n",
        "model.summary()"
      ],
      "metadata": {
        "colab": {
          "base_uri": "https://localhost:8080/"
        },
        "id": "NJauB0QiE-Qr",
        "outputId": "8fd227da-352d-4fbe-96ed-a3381131d067"
      },
      "execution_count": null,
      "outputs": [
        {
          "output_type": "stream",
          "name": "stdout",
          "text": [
            "Model: \"sequential_2\"\n",
            "_________________________________________________________________\n",
            " Layer (type)                Output Shape              Param #   \n",
            "=================================================================\n",
            " conv2d_8 (Conv2D)           (None, 198, 198, 32)      320       \n",
            "                                                                 \n",
            " max_pooling2d_8 (MaxPoolin  (None, 99, 99, 32)        0         \n",
            " g2D)                                                            \n",
            "                                                                 \n",
            " conv2d_9 (Conv2D)           (None, 97, 97, 64)        18496     \n",
            "                                                                 \n",
            " max_pooling2d_9 (MaxPoolin  (None, 48, 48, 64)        0         \n",
            " g2D)                                                            \n",
            "                                                                 \n",
            " conv2d_10 (Conv2D)          (None, 46, 46, 128)       73856     \n",
            "                                                                 \n",
            " max_pooling2d_10 (MaxPooli  (None, 23, 23, 128)       0         \n",
            " ng2D)                                                           \n",
            "                                                                 \n",
            " conv2d_11 (Conv2D)          (None, 21, 21, 256)       295168    \n",
            "                                                                 \n",
            " max_pooling2d_11 (MaxPooli  (None, 10, 10, 256)       0         \n",
            " ng2D)                                                           \n",
            "                                                                 \n",
            " flatten_2 (Flatten)         (None, 25600)             0         \n",
            "                                                                 \n",
            " dense_10 (Dense)            (None, 256)               6553856   \n",
            "                                                                 \n",
            " dropout_2 (Dropout)         (None, 256)               0         \n",
            "                                                                 \n",
            " dense_11 (Dense)            (None, 128)               32896     \n",
            "                                                                 \n",
            " dense_12 (Dense)            (None, 64)                8256      \n",
            "                                                                 \n",
            " dense_13 (Dense)            (None, 32)                2080      \n",
            "                                                                 \n",
            " dense_14 (Dense)            (None, 3)                 99        \n",
            "                                                                 \n",
            "=================================================================\n",
            "Total params: 6985027 (26.65 MB)\n",
            "Trainable params: 6985027 (26.65 MB)\n",
            "Non-trainable params: 0 (0.00 Byte)\n",
            "_________________________________________________________________\n"
          ]
        }
      ]
    },
    {
      "cell_type": "code",
      "source": [
        "from tensorflow.keras.callbacks import EarlyStopping\n",
        "\n",
        "early_stopping = EarlyStopping(\n",
        "    monitor='val_loss',\n",
        "    patience=10,\n",
        "    restore_best_weights=True\n",
        ")\n",
        "\n",
        "e = 25\n",
        "b = 25\n",
        "\n",
        "history = model.fit(\n",
        "    X_train,  # Your training data\n",
        "    y_train,  # Your training labels\n",
        "    epochs=e,\n",
        "    batch_size=b,\n",
        "    validation_split=0.2,  # Specify the fraction of training data to use for validation\n",
        "    callbacks=[early_stopping]\n",
        ")"
      ],
      "metadata": {
        "colab": {
          "base_uri": "https://localhost:8080/"
        },
        "id": "zMQT9OOGFKQS",
        "outputId": "d08b2c66-82b0-46c0-9a73-3f64a4abb861"
      },
      "execution_count": null,
      "outputs": [
        {
          "output_type": "stream",
          "name": "stdout",
          "text": [
            "Epoch 1/25\n",
            "8/8 [==============================] - 20s 2s/step - loss: 0.6724 - accuracy: 0.3600 - val_loss: 0.7169 - val_accuracy: 0.0000e+00\n",
            "Epoch 2/25\n",
            "8/8 [==============================] - 20s 2s/step - loss: 0.6457 - accuracy: 0.3500 - val_loss: 0.6799 - val_accuracy: 0.0000e+00\n",
            "Epoch 3/25\n",
            "8/8 [==============================] - 18s 2s/step - loss: 0.6307 - accuracy: 0.3500 - val_loss: 0.6812 - val_accuracy: 0.0000e+00\n",
            "Epoch 4/25\n",
            "8/8 [==============================] - 18s 2s/step - loss: 0.6254 - accuracy: 0.3550 - val_loss: 0.7087 - val_accuracy: 0.0000e+00\n",
            "Epoch 5/25\n",
            "8/8 [==============================] - 19s 2s/step - loss: 0.6199 - accuracy: 0.3650 - val_loss: 0.7084 - val_accuracy: 0.0000e+00\n",
            "Epoch 6/25\n",
            "8/8 [==============================] - 19s 2s/step - loss: 0.5983 - accuracy: 0.4750 - val_loss: 0.7136 - val_accuracy: 0.0000e+00\n",
            "Epoch 7/25\n",
            "8/8 [==============================] - 18s 2s/step - loss: 0.5909 - accuracy: 0.4650 - val_loss: 0.6511 - val_accuracy: 0.0392\n",
            "Epoch 8/25\n",
            "8/8 [==============================] - 18s 2s/step - loss: 0.5446 - accuracy: 0.6000 - val_loss: 0.5665 - val_accuracy: 0.7843\n",
            "Epoch 9/25\n",
            "8/8 [==============================] - 20s 2s/step - loss: 0.4905 - accuracy: 0.7300 - val_loss: 0.4401 - val_accuracy: 0.8627\n",
            "Epoch 10/25\n",
            "8/8 [==============================] - 18s 2s/step - loss: 0.4183 - accuracy: 0.8000 - val_loss: 0.4516 - val_accuracy: 0.7843\n",
            "Epoch 11/25\n",
            "8/8 [==============================] - 18s 2s/step - loss: 0.3614 - accuracy: 0.7950 - val_loss: 0.3515 - val_accuracy: 0.7843\n",
            "Epoch 12/25\n",
            "8/8 [==============================] - 20s 3s/step - loss: 0.3265 - accuracy: 0.8150 - val_loss: 0.2398 - val_accuracy: 0.8627\n",
            "Epoch 13/25\n",
            "8/8 [==============================] - 18s 2s/step - loss: 0.2539 - accuracy: 0.8650 - val_loss: 0.1596 - val_accuracy: 0.9216\n",
            "Epoch 14/25\n",
            "8/8 [==============================] - 18s 2s/step - loss: 0.2044 - accuracy: 0.9150 - val_loss: 0.2892 - val_accuracy: 0.8235\n",
            "Epoch 15/25\n",
            "8/8 [==============================] - 19s 2s/step - loss: 0.2106 - accuracy: 0.8800 - val_loss: 0.1410 - val_accuracy: 0.9608\n",
            "Epoch 16/25\n",
            "8/8 [==============================] - 20s 2s/step - loss: 0.1996 - accuracy: 0.8650 - val_loss: 0.1367 - val_accuracy: 0.9608\n",
            "Epoch 17/25\n",
            "8/8 [==============================] - 18s 2s/step - loss: 0.1849 - accuracy: 0.8850 - val_loss: 0.1882 - val_accuracy: 0.9020\n",
            "Epoch 18/25\n",
            "8/8 [==============================] - 18s 2s/step - loss: 0.1703 - accuracy: 0.9000 - val_loss: 0.1344 - val_accuracy: 0.9412\n",
            "Epoch 19/25\n",
            "8/8 [==============================] - 20s 2s/step - loss: 0.1587 - accuracy: 0.9150 - val_loss: 0.1252 - val_accuracy: 0.9608\n",
            "Epoch 20/25\n",
            "8/8 [==============================] - 18s 2s/step - loss: 0.1421 - accuracy: 0.9150 - val_loss: 0.1314 - val_accuracy: 0.9412\n",
            "Epoch 21/25\n",
            "8/8 [==============================] - 18s 2s/step - loss: 0.1425 - accuracy: 0.9250 - val_loss: 0.1619 - val_accuracy: 0.9216\n",
            "Epoch 22/25\n",
            "8/8 [==============================] - 19s 3s/step - loss: 0.1272 - accuracy: 0.9350 - val_loss: 0.1365 - val_accuracy: 0.9608\n",
            "Epoch 23/25\n",
            "8/8 [==============================] - 19s 2s/step - loss: 0.1136 - accuracy: 0.9350 - val_loss: 0.1226 - val_accuracy: 0.9608\n",
            "Epoch 24/25\n",
            "8/8 [==============================] - 19s 2s/step - loss: 0.1063 - accuracy: 0.9350 - val_loss: 0.1726 - val_accuracy: 0.9412\n",
            "Epoch 25/25\n",
            "8/8 [==============================] - 19s 2s/step - loss: 0.1435 - accuracy: 0.9250 - val_loss: 0.1080 - val_accuracy: 0.9608\n"
          ]
        }
      ]
    },
    {
      "cell_type": "code",
      "source": [
        "y_preds = model.predict(X_test)"
      ],
      "metadata": {
        "colab": {
          "base_uri": "https://localhost:8080/"
        },
        "id": "U3xViPpOiEYC",
        "outputId": "00b296d1-d7e1-4627-b194-c6260214dea7"
      },
      "execution_count": null,
      "outputs": [
        {
          "output_type": "stream",
          "name": "stdout",
          "text": [
            "3/3 [==============================] - 2s 366ms/step\n"
          ]
        }
      ]
    },
    {
      "cell_type": "code",
      "source": [
        "y_preds"
      ],
      "metadata": {
        "colab": {
          "base_uri": "https://localhost:8080/"
        },
        "id": "3kqAnVlciPFH",
        "outputId": "d19d48a6-72db-4a53-d477-80a9bfeed407"
      },
      "execution_count": null,
      "outputs": [
        {
          "output_type": "execute_result",
          "data": {
            "text/plain": [
              "array([[3.59133303e-01, 6.36780560e-01, 4.08607023e-03],\n",
              "       [3.75732854e-02, 9.62422967e-01, 3.61518778e-06],\n",
              "       [6.68206513e-01, 3.31707120e-01, 8.62909437e-05],\n",
              "       [5.21480746e-04, 9.99478161e-01, 2.67124562e-07],\n",
              "       [9.97054577e-01, 2.74142670e-03, 2.03959498e-04],\n",
              "       [9.91676331e-01, 8.21027253e-03, 1.13330992e-04],\n",
              "       [6.72803283e-01, 3.26610297e-01, 5.86430833e-04],\n",
              "       [7.65234590e-01, 2.34224081e-01, 5.41286659e-04],\n",
              "       [2.15380132e-01, 7.84613073e-01, 6.72784699e-06],\n",
              "       [7.29171276e-01, 2.70822406e-01, 6.31932471e-06],\n",
              "       [8.70800577e-04, 9.99128938e-01, 2.83021933e-07],\n",
              "       [8.49104047e-01, 1.50867835e-01, 2.80996956e-05],\n",
              "       [9.17593777e-01, 8.22570249e-02, 1.49110841e-04],\n",
              "       [6.25061333e-01, 3.74846667e-01, 9.19879094e-05],\n",
              "       [9.93782163e-01, 6.18472556e-03, 3.30855146e-05],\n",
              "       [9.08115685e-01, 9.18641090e-02, 2.00437917e-05],\n",
              "       [9.95113432e-01, 4.81530884e-03, 7.12336769e-05],\n",
              "       [8.48542392e-01, 1.51440591e-01, 1.70016901e-05],\n",
              "       [5.56714714e-01, 4.43278849e-01, 6.51024584e-06],\n",
              "       [9.60081339e-01, 3.90857682e-02, 8.32910126e-04],\n",
              "       [1.37796462e-06, 9.99998510e-01, 8.89301521e-09],\n",
              "       [1.18370031e-06, 9.99998748e-01, 3.08321868e-10],\n",
              "       [4.53543301e-08, 9.99999940e-01, 7.08198611e-10],\n",
              "       [4.89239710e-07, 9.99999464e-01, 9.40069689e-10],\n",
              "       [2.61293631e-02, 9.73861933e-01, 8.65517086e-06],\n",
              "       [3.47776129e-03, 9.96480405e-01, 4.17024567e-05],\n",
              "       [3.27782914e-07, 9.99999583e-01, 5.16971133e-10],\n",
              "       [1.36452168e-02, 9.86329079e-01, 2.56963594e-05],\n",
              "       [3.79473335e-07, 9.99999583e-01, 3.16800225e-10],\n",
              "       [1.88668560e-06, 9.99996126e-01, 1.90314483e-06],\n",
              "       [1.27287596e-01, 8.72687578e-01, 2.48723500e-05],\n",
              "       [8.43220619e-07, 9.99999106e-01, 5.42941470e-10],\n",
              "       [2.83652509e-04, 9.99704599e-01, 1.17790769e-05],\n",
              "       [2.61472451e-07, 9.99999702e-01, 6.03992856e-09],\n",
              "       [8.21112335e-01, 1.78855240e-01, 3.24196881e-05],\n",
              "       [2.07039875e-07, 9.99999702e-01, 3.37221984e-09],\n",
              "       [1.73038575e-06, 9.99998033e-01, 8.04953970e-08],\n",
              "       [9.56740230e-02, 9.04082894e-01, 2.43178525e-04],\n",
              "       [4.00520975e-07, 9.99999583e-01, 6.74620193e-10],\n",
              "       [3.58916274e-09, 9.99999940e-01, 3.56824466e-11],\n",
              "       [4.17352027e-07, 4.60695105e-07, 9.99999106e-01],\n",
              "       [7.66761801e-08, 1.01429379e-07, 9.99999821e-01],\n",
              "       [3.41915052e-06, 2.94934785e-06, 9.99993622e-01],\n",
              "       [7.92436026e-07, 2.78047366e-07, 9.99998868e-01],\n",
              "       [1.19393928e-06, 7.87862746e-07, 9.99997914e-01],\n",
              "       [4.96113328e-09, 2.22635368e-08, 9.99999940e-01],\n",
              "       [1.29110795e-02, 8.31399113e-04, 9.86257434e-01],\n",
              "       [3.64257226e-04, 3.14277349e-05, 9.99604285e-01],\n",
              "       [9.42958245e-09, 1.40836542e-08, 9.99999940e-01],\n",
              "       [1.22334303e-08, 5.76611434e-08, 9.99999821e-01],\n",
              "       [2.65929382e-04, 1.54267327e-05, 9.99718666e-01],\n",
              "       [1.08186014e-05, 1.71807151e-05, 9.99971926e-01],\n",
              "       [8.75022844e-04, 5.65238297e-03, 9.93472636e-01],\n",
              "       [9.21973664e-10, 2.35392905e-09, 9.99999940e-01],\n",
              "       [1.71917839e-06, 6.23019389e-07, 9.99997556e-01],\n",
              "       [3.14722854e-07, 1.90975186e-07, 9.99999464e-01],\n",
              "       [3.86254271e-07, 6.13644957e-08, 9.99999464e-01],\n",
              "       [5.24077048e-09, 1.90730738e-08, 9.99999940e-01],\n",
              "       [1.71917839e-06, 6.23019389e-07, 9.99997556e-01],\n",
              "       [2.29675408e-08, 2.74590963e-08, 9.99999940e-01],\n",
              "       [3.89983961e-06, 4.83208453e-07, 9.99995530e-01],\n",
              "       [4.66039509e-08, 5.24968620e-08, 9.99999821e-01],\n",
              "       [1.03994753e-05, 1.65175716e-05, 9.99972999e-01],\n",
              "       [1.02759934e-07, 2.34958407e-07, 9.99999583e-01],\n",
              "       [5.00325143e-07, 1.45774933e-07, 9.99999404e-01],\n",
              "       [2.14715928e-05, 3.79903690e-06, 9.99974728e-01]], dtype=float32)"
            ]
          },
          "metadata": {},
          "execution_count": 45
        }
      ]
    },
    {
      "cell_type": "code",
      "source": [
        "y_pred_class = []\n",
        "for pred in y_preds.tolist():\n",
        "  if pred[0] >= pred[1] and pred[0] >= pred[2]:\n",
        "    y_pred_class.append(0)\n",
        "  elif pred[1] >= pred[0] and pred[1] >= pred[2]:\n",
        "    y_pred_class.append(1)\n",
        "  else:\n",
        "    y_pred_class.append(2)\n",
        "\n",
        "y_pred_class = np.array(y_pred_class)\n",
        "print(y_pred_class.shape, y_test.shape)"
      ],
      "metadata": {
        "colab": {
          "base_uri": "https://localhost:8080/"
        },
        "id": "0lAdSQdSioG6",
        "outputId": "a503cff4-6f14-4f9d-a8f9-f370c5ad57a3"
      },
      "execution_count": null,
      "outputs": [
        {
          "output_type": "stream",
          "name": "stdout",
          "text": [
            "(66,) (66, 3)\n"
          ]
        }
      ]
    },
    {
      "cell_type": "code",
      "source": [
        "y_actual = []\n",
        "\n",
        "for l in y_test.tolist():\n",
        "  if l == [1, 0, 0]:\n",
        "    y_actual.append(0)\n",
        "  elif l == [0, 1, 0]:\n",
        "    y_actual.append(1)\n",
        "  else:\n",
        "    y_actual.append(2)\n",
        "\n",
        "y_actual = np.array(y_actual)\n",
        "y_actual"
      ],
      "metadata": {
        "colab": {
          "base_uri": "https://localhost:8080/"
        },
        "id": "0p_PwqKjiyOU",
        "outputId": "299bc7b5-004e-42fb-da7a-782d4e8e7957"
      },
      "execution_count": null,
      "outputs": [
        {
          "output_type": "execute_result",
          "data": {
            "text/plain": [
              "array([0, 0, 0, 0, 0, 0, 0, 0, 0, 0, 0, 0, 0, 0, 0, 0, 0, 0, 0, 0, 1, 1,\n",
              "       1, 1, 1, 1, 1, 1, 1, 1, 1, 1, 1, 1, 1, 1, 1, 1, 1, 1, 2, 2, 2, 2,\n",
              "       2, 2, 2, 2, 2, 2, 2, 2, 2, 2, 2, 2, 2, 2, 2, 2, 2, 2, 2, 2, 2, 2])"
            ]
          },
          "metadata": {},
          "execution_count": 47
        }
      ]
    },
    {
      "cell_type": "code",
      "source": [
        "y_pred_class"
      ],
      "metadata": {
        "colab": {
          "base_uri": "https://localhost:8080/"
        },
        "id": "dYW3uhALkIOs",
        "outputId": "08811773-7c84-4a3e-aa7a-a36214633ed4"
      },
      "execution_count": null,
      "outputs": [
        {
          "output_type": "execute_result",
          "data": {
            "text/plain": [
              "array([1, 1, 0, 1, 0, 0, 0, 0, 1, 0, 1, 0, 0, 0, 0, 0, 0, 0, 0, 0, 1, 1,\n",
              "       1, 1, 1, 1, 1, 1, 1, 1, 1, 1, 1, 1, 0, 1, 1, 1, 1, 1, 2, 2, 2, 2,\n",
              "       2, 2, 2, 2, 2, 2, 2, 2, 2, 2, 2, 2, 2, 2, 2, 2, 2, 2, 2, 2, 2, 2])"
            ]
          },
          "metadata": {},
          "execution_count": 48
        }
      ]
    },
    {
      "cell_type": "code",
      "source": [
        "from sklearn.metrics import accuracy_score\n",
        "from sklearn.metrics import confusion_matrix\n",
        "import matplotlib.pyplot as plt\n",
        "import seaborn as sns\n",
        "\n",
        "conf_matrix = confusion_matrix(y_actual, y_pred_class)\n",
        "\n",
        "# Visualize the confusion matrix\n",
        "plt.figure(figsize=(8, 6))\n",
        "sns.heatmap(conf_matrix, annot=True, fmt='d', cbar=False)\n",
        "plt.xlabel('Predicted Labels')\n",
        "plt.ylabel('True Labels')\n",
        "plt.title('Confusion Matrix')\n",
        "plt.show()"
      ],
      "metadata": {
        "colab": {
          "base_uri": "https://localhost:8080/",
          "height": 564
        },
        "id": "v0CSy8ZMkN5M",
        "outputId": "15163ec7-e23d-42d0-bf14-f74d90a764e3"
      },
      "execution_count": null,
      "outputs": [
        {
          "output_type": "display_data",
          "data": {
            "text/plain": [
              "<Figure size 800x600 with 1 Axes>"
            ],
            "image/png": "[encoded data removed]"
          },
          "metadata": {}
        }
      ]
    },
    {
      "cell_type": "code",
      "source": [
        "from sklearn.metrics import classification_report\n",
        "\n",
        "target_names = [\"Normal\", \"Viral Pneumonia\", \"COVID-19\"]\n",
        "print(classification_report(y_actual, y_pred_class, target_names=target_names))"
      ],
      "metadata": {
        "colab": {
          "base_uri": "https://localhost:8080/"
        },
        "id": "a9kZPtGMkzLl",
        "outputId": "3b185be3-0e34-4792-c1be-9d11317fdbdd"
      },
      "execution_count": null,
      "outputs": [
        {
          "output_type": "stream",
          "name": "stdout",
          "text": [
            "                 precision    recall  f1-score   support\n",
            "\n",
            "         Normal       0.94      0.75      0.83        20\n",
            "Viral Pneumonia       0.79      0.95      0.86        20\n",
            "       COVID-19       1.00      1.00      1.00        26\n",
            "\n",
            "       accuracy                           0.91        66\n",
            "      macro avg       0.91      0.90      0.90        66\n",
            "   weighted avg       0.92      0.91      0.91        66\n",
            "\n"
          ]
        }
      ]
    },
    {
      "cell_type": "code",
      "source": [
        "from sklearn.metrics import accuracy_score\n",
        "accuracy_score(y_actual, y_pred_class)"
      ],
      "metadata": {
        "colab": {
          "base_uri": "https://localhost:8080/"
        },
        "id": "-gmWmD3dlC-6",
        "outputId": "1161a33c-1a89-4df8-f26b-6f8f72df75be"
      },
      "execution_count": null,
      "outputs": [
        {
          "output_type": "execute_result",
          "data": {
            "text/plain": [
              "0.9090909090909091"
            ]
          },
          "metadata": {},
          "execution_count": 52
        }
      ]
    }
  ]
}